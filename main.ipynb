{
 "cells": [
  {
   "cell_type": "markdown",
   "id": "736b942c-cf88-481d-a75d-399fe93af160",
   "metadata": {},
   "source": [
    "# CryptoBot with Binance Project"
   ]
  },
  {
   "cell_type": "markdown",
   "id": "5fc35782-bb62-435b-807a-84b78e1bd148",
   "metadata": {},
   "source": [
    "## Import Libraries"
   ]
  },
  {
   "cell_type": "code",
   "execution_count": 1,
   "id": "5e997b65-a5be-4702-a5ad-75781d2f809c",
   "metadata": {},
   "outputs": [],
   "source": [
    "# import libraries\n",
    "import config\n",
    "import pandas as pd\n",
    "from binance.client import Client\n",
    "from pymongo import MongoClient\n"
   ]
  },
  {
   "cell_type": "markdown",
   "id": "238b54de-12bf-4560-88ac-5ff526f48f1f",
   "metadata": {},
   "source": [
    "## Get Data for \"BTCUSDT\" with API"
   ]
  },
  {
   "cell_type": "code",
   "execution_count": 2,
   "id": "9c06e961-735f-4bdc-914e-68b3d4cfa620",
   "metadata": {},
   "outputs": [
    {
     "data": {
      "text/html": [
       "<div>\n",
       "<style scoped>\n",
       "    .dataframe tbody tr th:only-of-type {\n",
       "        vertical-align: middle;\n",
       "    }\n",
       "\n",
       "    .dataframe tbody tr th {\n",
       "        vertical-align: top;\n",
       "    }\n",
       "\n",
       "    .dataframe thead th {\n",
       "        text-align: right;\n",
       "    }\n",
       "</style>\n",
       "<table border=\"1\" class=\"dataframe\">\n",
       "  <thead>\n",
       "    <tr style=\"text-align: right;\">\n",
       "      <th></th>\n",
       "      <th>timestamp</th>\n",
       "      <th>open</th>\n",
       "      <th>high</th>\n",
       "      <th>low</th>\n",
       "      <th>close</th>\n",
       "      <th>volume</th>\n",
       "      <th>close_time</th>\n",
       "      <th>quote_asset_volume</th>\n",
       "      <th>number_of_trades</th>\n",
       "      <th>taker_buy_base_asset_volume</th>\n",
       "      <th>taker_buy_quote_asset_volume</th>\n",
       "      <th>ignore</th>\n",
       "    </tr>\n",
       "  </thead>\n",
       "  <tbody>\n",
       "    <tr>\n",
       "      <th>2089</th>\n",
       "      <td>2023-05-07</td>\n",
       "      <td>28848.19000000</td>\n",
       "      <td>29138.29000000</td>\n",
       "      <td>28395.23000000</td>\n",
       "      <td>28430.10000000</td>\n",
       "      <td>30003.41028000</td>\n",
       "      <td>2023-05-07 23:59:59.999</td>\n",
       "      <td>865838535.32638210</td>\n",
       "      <td>855425</td>\n",
       "      <td>14904.01102000</td>\n",
       "      <td>430162358.62942520</td>\n",
       "      <td>0</td>\n",
       "    </tr>\n",
       "    <tr>\n",
       "      <th>2090</th>\n",
       "      <td>2023-05-08</td>\n",
       "      <td>28430.09000000</td>\n",
       "      <td>28631.01000000</td>\n",
       "      <td>27262.00000000</td>\n",
       "      <td>27668.79000000</td>\n",
       "      <td>68244.36179000</td>\n",
       "      <td>2023-05-08 23:59:59.999</td>\n",
       "      <td>1903052694.66841270</td>\n",
       "      <td>1600637</td>\n",
       "      <td>32347.56935000</td>\n",
       "      <td>901988104.11036000</td>\n",
       "      <td>0</td>\n",
       "    </tr>\n",
       "    <tr>\n",
       "      <th>2091</th>\n",
       "      <td>2023-05-09</td>\n",
       "      <td>27668.80000000</td>\n",
       "      <td>27818.00000000</td>\n",
       "      <td>27353.00000000</td>\n",
       "      <td>27628.27000000</td>\n",
       "      <td>40113.31069000</td>\n",
       "      <td>2023-05-09 23:59:59.999</td>\n",
       "      <td>1106923908.30584690</td>\n",
       "      <td>1003698</td>\n",
       "      <td>20094.09737000</td>\n",
       "      <td>554561922.80537130</td>\n",
       "      <td>0</td>\n",
       "    </tr>\n",
       "    <tr>\n",
       "      <th>2092</th>\n",
       "      <td>2023-05-10</td>\n",
       "      <td>27628.28000000</td>\n",
       "      <td>28331.42000000</td>\n",
       "      <td>26777.00000000</td>\n",
       "      <td>27598.75000000</td>\n",
       "      <td>71155.11355000</td>\n",
       "      <td>2023-05-10 23:59:59.999</td>\n",
       "      <td>1971173412.43550200</td>\n",
       "      <td>1534579</td>\n",
       "      <td>34398.83676000</td>\n",
       "      <td>953153016.50961890</td>\n",
       "      <td>0</td>\n",
       "    </tr>\n",
       "    <tr>\n",
       "      <th>2093</th>\n",
       "      <td>2023-05-11</td>\n",
       "      <td>27598.74000000</td>\n",
       "      <td>27630.14000000</td>\n",
       "      <td>26702.05000000</td>\n",
       "      <td>26985.55000000</td>\n",
       "      <td>44129.43033000</td>\n",
       "      <td>2023-05-11 23:59:59.999</td>\n",
       "      <td>1201244992.56405450</td>\n",
       "      <td>1143700</td>\n",
       "      <td>21564.25247000</td>\n",
       "      <td>586914203.81729590</td>\n",
       "      <td>0</td>\n",
       "    </tr>\n",
       "  </tbody>\n",
       "</table>\n",
       "</div>"
      ],
      "text/plain": [
       "      timestamp            open            high             low  \\\n",
       "2089 2023-05-07  28848.19000000  29138.29000000  28395.23000000   \n",
       "2090 2023-05-08  28430.09000000  28631.01000000  27262.00000000   \n",
       "2091 2023-05-09  27668.80000000  27818.00000000  27353.00000000   \n",
       "2092 2023-05-10  27628.28000000  28331.42000000  26777.00000000   \n",
       "2093 2023-05-11  27598.74000000  27630.14000000  26702.05000000   \n",
       "\n",
       "               close          volume              close_time  \\\n",
       "2089  28430.10000000  30003.41028000 2023-05-07 23:59:59.999   \n",
       "2090  27668.79000000  68244.36179000 2023-05-08 23:59:59.999   \n",
       "2091  27628.27000000  40113.31069000 2023-05-09 23:59:59.999   \n",
       "2092  27598.75000000  71155.11355000 2023-05-10 23:59:59.999   \n",
       "2093  26985.55000000  44129.43033000 2023-05-11 23:59:59.999   \n",
       "\n",
       "       quote_asset_volume  number_of_trades taker_buy_base_asset_volume  \\\n",
       "2089   865838535.32638210            855425              14904.01102000   \n",
       "2090  1903052694.66841270           1600637              32347.56935000   \n",
       "2091  1106923908.30584690           1003698              20094.09737000   \n",
       "2092  1971173412.43550200           1534579              34398.83676000   \n",
       "2093  1201244992.56405450           1143700              21564.25247000   \n",
       "\n",
       "     taker_buy_quote_asset_volume ignore  \n",
       "2089           430162358.62942520      0  \n",
       "2090           901988104.11036000      0  \n",
       "2091           554561922.80537130      0  \n",
       "2092           953153016.50961890      0  \n",
       "2093           586914203.81729590      0  "
      ]
     },
     "execution_count": 2,
     "metadata": {},
     "output_type": "execute_result"
    }
   ],
   "source": [
    "client = Client(config.APIKey, config.SecretKey)\n",
    "\n",
    "klines_BTCUSDT = client.get_historical_klines(\"BTCUSDT\", Client.KLINE_INTERVAL_1DAY, \"1 Jan, 2017\", \"now\")\n",
    "\n",
    "df = pd.DataFrame(klines_BTCUSDT, columns=['timestamp', 'open', 'high', 'low', 'close', 'volume', 'close_time', 'quote_asset_volume', 'number_of_trades', 'taker_buy_base_asset_volume', 'taker_buy_quote_asset_volume', 'ignore'])\n",
    "df['timestamp'] = pd.to_datetime(df['timestamp'], unit='ms')\n",
    "df['close_time'] = pd.to_datetime(df['close_time'], unit='ms')\n",
    "\n",
    "df.tail()"
   ]
  },
  {
   "cell_type": "code",
   "execution_count": 3,
   "id": "8e160e03-d8ce-4e7b-a34a-c17bb0e9d91a",
   "metadata": {},
   "outputs": [
    {
     "name": "stdout",
     "output_type": "stream",
     "text": [
      "<class 'pandas.core.frame.DataFrame'>\n",
      "RangeIndex: 2094 entries, 0 to 2093\n",
      "Data columns (total 12 columns):\n",
      " #   Column                        Non-Null Count  Dtype         \n",
      "---  ------                        --------------  -----         \n",
      " 0   timestamp                     2094 non-null   datetime64[ns]\n",
      " 1   open                          2094 non-null   object        \n",
      " 2   high                          2094 non-null   object        \n",
      " 3   low                           2094 non-null   object        \n",
      " 4   close                         2094 non-null   object        \n",
      " 5   volume                        2094 non-null   object        \n",
      " 6   close_time                    2094 non-null   datetime64[ns]\n",
      " 7   quote_asset_volume            2094 non-null   object        \n",
      " 8   number_of_trades              2094 non-null   int64         \n",
      " 9   taker_buy_base_asset_volume   2094 non-null   object        \n",
      " 10  taker_buy_quote_asset_volume  2094 non-null   object        \n",
      " 11  ignore                        2094 non-null   object        \n",
      "dtypes: datetime64[ns](2), int64(1), object(9)\n",
      "memory usage: 196.4+ KB\n"
     ]
    }
   ],
   "source": [
    "df.info()"
   ]
  },
  {
   "cell_type": "markdown",
   "id": "a7cb380b-8be0-4f91-9228-a0c645fafb03",
   "metadata": {},
   "source": [
    "## Change data types object to float "
   ]
  },
  {
   "cell_type": "code",
   "execution_count": 4,
   "id": "3f777d08-cbea-4a14-a47b-b2e1cf06351e",
   "metadata": {},
   "outputs": [
    {
     "data": {
      "text/plain": [
       "Index(['timestamp', 'open', 'high', 'low', 'close', 'volume', 'close_time',\n",
       "       'quote_asset_volume', 'number_of_trades', 'taker_buy_base_asset_volume',\n",
       "       'taker_buy_quote_asset_volume', 'ignore'],\n",
       "      dtype='object')"
      ]
     },
     "execution_count": 4,
     "metadata": {},
     "output_type": "execute_result"
    }
   ],
   "source": [
    "df.columns"
   ]
  },
  {
   "cell_type": "code",
   "execution_count": 5,
   "id": "741c1984-cfc2-4ab9-aad4-6aeb53ff835c",
   "metadata": {},
   "outputs": [
    {
     "name": "stdout",
     "output_type": "stream",
     "text": [
      "<class 'pandas.core.frame.DataFrame'>\n",
      "RangeIndex: 2094 entries, 0 to 2093\n",
      "Data columns (total 12 columns):\n",
      " #   Column                        Non-Null Count  Dtype         \n",
      "---  ------                        --------------  -----         \n",
      " 0   timestamp                     2094 non-null   datetime64[ns]\n",
      " 1   open                          2094 non-null   float64       \n",
      " 2   high                          2094 non-null   float64       \n",
      " 3   low                           2094 non-null   float64       \n",
      " 4   close                         2094 non-null   float64       \n",
      " 5   volume                        2094 non-null   float64       \n",
      " 6   close_time                    2094 non-null   datetime64[ns]\n",
      " 7   quote_asset_volume            2094 non-null   float64       \n",
      " 8   number_of_trades              2094 non-null   int64         \n",
      " 9   taker_buy_base_asset_volume   2094 non-null   float64       \n",
      " 10  taker_buy_quote_asset_volume  2094 non-null   float64       \n",
      " 11  ignore                        2094 non-null   float64       \n",
      "dtypes: datetime64[ns](2), float64(9), int64(1)\n",
      "memory usage: 196.4 KB\n"
     ]
    }
   ],
   "source": [
    "cols = ['open', 'high', 'low', 'close', 'volume', 'quote_asset_volume', 'taker_buy_base_asset_volume','taker_buy_quote_asset_volume', 'ignore']\n",
    "\n",
    "df[cols] = df[cols].astype(float)\n",
    "\n",
    "df.info()"
   ]
  },
  {
   "cell_type": "markdown",
   "id": "47f3c00d-a671-40dd-b3a0-e3db86ac7786",
   "metadata": {},
   "source": [
    "## Save data to csv"
   ]
  },
  {
   "cell_type": "code",
   "execution_count": 6,
   "id": "bc829358-de51-43f0-b124-934279b03e18",
   "metadata": {},
   "outputs": [],
   "source": [
    "df.to_csv(\"data/BTCUSDT_2017_01_01_to_2023_05_11.csv\", index=False)"
   ]
  },
  {
   "cell_type": "markdown",
   "id": "cbb4afda",
   "metadata": {},
   "source": [
    "## MongoDB Connection"
   ]
  },
  {
   "cell_type": "code",
   "execution_count": 11,
   "id": "9ae65259",
   "metadata": {},
   "outputs": [
    {
     "data": {
      "text/plain": [
       "['admin', 'binance', 'config', 'local', 'sample']"
      ]
     },
     "execution_count": 11,
     "metadata": {},
     "output_type": "execute_result"
    }
   ],
   "source": [
    "from pymongo import MongoClient\n",
    "\n",
    "# Create MongoDB client\n",
    "client = MongoClient('localhost', 27017)\n",
    "\n",
    "# Create database and collection\n",
    "binance = client['binance']\n",
    "\n",
    "btc = binance['btc']\n",
    "\n",
    "# Convert df (Dataframe) to dictionary\n",
    "data = df.to_dict(orient='records')\n",
    "\n",
    "# Add all datas to MongoDB \n",
    "btc.insert_many(data)\n",
    "\n",
    "# See all databases\n",
    "client.list_database_names()\n"
   ]
  },
  {
   "cell_type": "code",
   "execution_count": 12,
   "id": "e5d9bb42",
   "metadata": {},
   "outputs": [
    {
     "data": {
      "text/plain": [
       "{'_id': ObjectId('645d578e03834d5ed5a1c3bb'),\n",
       " 'timestamp': datetime.datetime(2017, 8, 17, 0, 0),\n",
       " 'open': 4261.48,\n",
       " 'high': 4485.39,\n",
       " 'low': 4200.74,\n",
       " 'close': 4285.08,\n",
       " 'volume': 795.150377,\n",
       " 'close_time': datetime.datetime(2017, 8, 17, 23, 59, 59, 999000),\n",
       " 'quote_asset_volume': 3454770.05073206,\n",
       " 'number_of_trades': 3427,\n",
       " 'taker_buy_base_asset_volume': 616.248541,\n",
       " 'taker_buy_quote_asset_volume': 2678216.40060401,\n",
       " 'ignore': 0.0}"
      ]
     },
     "execution_count": 12,
     "metadata": {},
     "output_type": "execute_result"
    }
   ],
   "source": [
    "btc.find_one()"
   ]
  },
  {
   "cell_type": "code",
   "execution_count": null,
   "id": "0c94f956",
   "metadata": {},
   "outputs": [],
   "source": []
  },
  {
   "cell_type": "code",
   "execution_count": null,
   "id": "9e9f4c16",
   "metadata": {},
   "outputs": [],
   "source": []
  },
  {
   "cell_type": "code",
   "execution_count": null,
   "id": "a72c069a",
   "metadata": {},
   "outputs": [],
   "source": []
  }
 ],
 "metadata": {
  "kernelspec": {
   "display_name": "base",
   "language": "python",
   "name": "python3"
  },
  "language_info": {
   "codemirror_mode": {
    "name": "ipython",
    "version": 3
   },
   "file_extension": ".py",
   "mimetype": "text/x-python",
   "name": "python",
   "nbconvert_exporter": "python",
   "pygments_lexer": "ipython3",
   "version": "3.10.9"
  }
 },
 "nbformat": 4,
 "nbformat_minor": 5
}
