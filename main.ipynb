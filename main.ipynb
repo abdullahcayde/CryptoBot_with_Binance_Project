{
 "cells": [
  {
   "cell_type": "markdown",
   "id": "736b942c-cf88-481d-a75d-399fe93af160",
   "metadata": {},
   "source": [
    "# CryptoBot with Binance Project"
   ]
  },
  {
   "cell_type": "markdown",
   "id": "5fc35782-bb62-435b-807a-84b78e1bd148",
   "metadata": {},
   "source": [
    "## import libraries"
   ]
  },
  {
   "cell_type": "code",
   "execution_count": 6,
   "id": "5e997b65-a5be-4702-a5ad-75781d2f809c",
   "metadata": {},
   "outputs": [],
   "source": [
    "# import libraries\n",
    "import pandas as pd\n",
    "import config\n",
    "from binance.client import Client\n",
    "\n",
    "\n",
    "# Display settings \n",
    "#pd.options.display.float_format = '{:.6f}'.format"
   ]
  },
  {
   "cell_type": "markdown",
   "id": "238b54de-12bf-4560-88ac-5ff526f48f1f",
   "metadata": {},
   "source": [
    "## Get Data for \"BTCUSDT\" with API"
   ]
  },
  {
   "cell_type": "code",
   "execution_count": 8,
   "id": "9c06e961-735f-4bdc-914e-68b3d4cfa620",
   "metadata": {},
   "outputs": [
    {
     "data": {
      "text/html": [
       "<div>\n",
       "<style scoped>\n",
       "    .dataframe tbody tr th:only-of-type {\n",
       "        vertical-align: middle;\n",
       "    }\n",
       "\n",
       "    .dataframe tbody tr th {\n",
       "        vertical-align: top;\n",
       "    }\n",
       "\n",
       "    .dataframe thead th {\n",
       "        text-align: right;\n",
       "    }\n",
       "</style>\n",
       "<table border=\"1\" class=\"dataframe\">\n",
       "  <thead>\n",
       "    <tr style=\"text-align: right;\">\n",
       "      <th></th>\n",
       "      <th>timestamp</th>\n",
       "      <th>open</th>\n",
       "      <th>high</th>\n",
       "      <th>low</th>\n",
       "      <th>close</th>\n",
       "      <th>volume</th>\n",
       "      <th>close_time</th>\n",
       "      <th>quote_asset_volume</th>\n",
       "      <th>number_of_trades</th>\n",
       "      <th>taker_buy_base_asset_volume</th>\n",
       "      <th>taker_buy_quote_asset_volume</th>\n",
       "      <th>ignore</th>\n",
       "    </tr>\n",
       "  </thead>\n",
       "  <tbody>\n",
       "    <tr>\n",
       "      <th>2085</th>\n",
       "      <td>2023-05-03</td>\n",
       "      <td>28669.85000000</td>\n",
       "      <td>29266.66000000</td>\n",
       "      <td>28113.69000000</td>\n",
       "      <td>29026.16000000</td>\n",
       "      <td>64615.79213000</td>\n",
       "      <td>1683158399999</td>\n",
       "      <td>1845961218.84324360</td>\n",
       "      <td>1502909</td>\n",
       "      <td>32291.20998000</td>\n",
       "      <td>922549963.25075790</td>\n",
       "      <td>0</td>\n",
       "    </tr>\n",
       "    <tr>\n",
       "      <th>2086</th>\n",
       "      <td>2023-05-04</td>\n",
       "      <td>29026.16000000</td>\n",
       "      <td>29379.83000000</td>\n",
       "      <td>28663.64000000</td>\n",
       "      <td>28838.16000000</td>\n",
       "      <td>42575.47501000</td>\n",
       "      <td>1683244799999</td>\n",
       "      <td>1233816136.16065770</td>\n",
       "      <td>961542</td>\n",
       "      <td>20470.21240000</td>\n",
       "      <td>593281438.93813760</td>\n",
       "      <td>0</td>\n",
       "    </tr>\n",
       "    <tr>\n",
       "      <th>2087</th>\n",
       "      <td>2023-05-05</td>\n",
       "      <td>28838.16000000</td>\n",
       "      <td>29677.00000000</td>\n",
       "      <td>28800.00000000</td>\n",
       "      <td>29505.61000000</td>\n",
       "      <td>58415.83048000</td>\n",
       "      <td>1683331199999</td>\n",
       "      <td>1709786814.90113400</td>\n",
       "      <td>1288027</td>\n",
       "      <td>29071.98606000</td>\n",
       "      <td>850975342.64243030</td>\n",
       "      <td>0</td>\n",
       "    </tr>\n",
       "    <tr>\n",
       "      <th>2088</th>\n",
       "      <td>2023-05-06</td>\n",
       "      <td>29505.60000000</td>\n",
       "      <td>29820.00000000</td>\n",
       "      <td>28300.00000000</td>\n",
       "      <td>28848.20000000</td>\n",
       "      <td>49249.28459000</td>\n",
       "      <td>1683417599999</td>\n",
       "      <td>1429517892.78050220</td>\n",
       "      <td>1221021</td>\n",
       "      <td>23315.95073000</td>\n",
       "      <td>676717267.01172240</td>\n",
       "      <td>0</td>\n",
       "    </tr>\n",
       "    <tr>\n",
       "      <th>2089</th>\n",
       "      <td>2023-05-07</td>\n",
       "      <td>28848.19000000</td>\n",
       "      <td>29138.29000000</td>\n",
       "      <td>28744.08000000</td>\n",
       "      <td>28883.41000000</td>\n",
       "      <td>8085.98473000</td>\n",
       "      <td>1683503999999</td>\n",
       "      <td>233592953.87432060</td>\n",
       "      <td>214023</td>\n",
       "      <td>4194.36921000</td>\n",
       "      <td>121171183.86270880</td>\n",
       "      <td>0</td>\n",
       "    </tr>\n",
       "  </tbody>\n",
       "</table>\n",
       "</div>"
      ],
      "text/plain": [
       "      timestamp            open            high             low  \\\n",
       "2085 2023-05-03  28669.85000000  29266.66000000  28113.69000000   \n",
       "2086 2023-05-04  29026.16000000  29379.83000000  28663.64000000   \n",
       "2087 2023-05-05  28838.16000000  29677.00000000  28800.00000000   \n",
       "2088 2023-05-06  29505.60000000  29820.00000000  28300.00000000   \n",
       "2089 2023-05-07  28848.19000000  29138.29000000  28744.08000000   \n",
       "\n",
       "               close          volume     close_time   quote_asset_volume  \\\n",
       "2085  29026.16000000  64615.79213000  1683158399999  1845961218.84324360   \n",
       "2086  28838.16000000  42575.47501000  1683244799999  1233816136.16065770   \n",
       "2087  29505.61000000  58415.83048000  1683331199999  1709786814.90113400   \n",
       "2088  28848.20000000  49249.28459000  1683417599999  1429517892.78050220   \n",
       "2089  28883.41000000   8085.98473000  1683503999999   233592953.87432060   \n",
       "\n",
       "      number_of_trades taker_buy_base_asset_volume  \\\n",
       "2085           1502909              32291.20998000   \n",
       "2086            961542              20470.21240000   \n",
       "2087           1288027              29071.98606000   \n",
       "2088           1221021              23315.95073000   \n",
       "2089            214023               4194.36921000   \n",
       "\n",
       "     taker_buy_quote_asset_volume ignore  \n",
       "2085           922549963.25075790      0  \n",
       "2086           593281438.93813760      0  \n",
       "2087           850975342.64243030      0  \n",
       "2088           676717267.01172240      0  \n",
       "2089           121171183.86270880      0  "
      ]
     },
     "execution_count": 8,
     "metadata": {},
     "output_type": "execute_result"
    }
   ],
   "source": [
    "client = Client(config.APIKey, config.SecretKey)\n",
    "\n",
    "klines_BTCUSDT = client.get_historical_klines(\"BTCUSDT\", Client.KLINE_INTERVAL_1DAY, \"1 Jan, 2017\", \"now\")\n",
    "\n",
    "df = pd.DataFrame(klines_BTCUSDT, columns=['timestamp', 'open', 'high', 'low', 'close', 'volume', 'close_time', 'quote_asset_volume', 'number_of_trades', 'taker_buy_base_asset_volume', 'taker_buy_quote_asset_volume', 'ignore'])\n",
    "df['timestamp'] = pd.to_datetime(df['timestamp'], unit='ms')\n",
    "\n",
    "df.tail()"
   ]
  },
  {
   "cell_type": "code",
   "execution_count": 10,
   "id": "8e160e03-d8ce-4e7b-a34a-c17bb0e9d91a",
   "metadata": {},
   "outputs": [
    {
     "name": "stdout",
     "output_type": "stream",
     "text": [
      "<class 'pandas.core.frame.DataFrame'>\n",
      "RangeIndex: 2090 entries, 0 to 2089\n",
      "Data columns (total 12 columns):\n",
      " #   Column                        Non-Null Count  Dtype         \n",
      "---  ------                        --------------  -----         \n",
      " 0   timestamp                     2090 non-null   datetime64[ns]\n",
      " 1   open                          2090 non-null   object        \n",
      " 2   high                          2090 non-null   object        \n",
      " 3   low                           2090 non-null   object        \n",
      " 4   close                         2090 non-null   object        \n",
      " 5   volume                        2090 non-null   object        \n",
      " 6   close_time                    2090 non-null   int64         \n",
      " 7   quote_asset_volume            2090 non-null   object        \n",
      " 8   number_of_trades              2090 non-null   int64         \n",
      " 9   taker_buy_base_asset_volume   2090 non-null   object        \n",
      " 10  taker_buy_quote_asset_volume  2090 non-null   object        \n",
      " 11  ignore                        2090 non-null   object        \n",
      "dtypes: datetime64[ns](1), int64(2), object(9)\n",
      "memory usage: 196.1+ KB\n"
     ]
    }
   ],
   "source": [
    "df.info()"
   ]
  },
  {
   "cell_type": "markdown",
   "id": "a7cb380b-8be0-4f91-9228-a0c645fafb03",
   "metadata": {},
   "source": [
    "## Change data types object to float "
   ]
  },
  {
   "cell_type": "code",
   "execution_count": 12,
   "id": "3f777d08-cbea-4a14-a47b-b2e1cf06351e",
   "metadata": {},
   "outputs": [
    {
     "data": {
      "text/plain": [
       "Index(['timestamp', 'open', 'high', 'low', 'close', 'volume', 'close_time',\n",
       "       'quote_asset_volume', 'number_of_trades', 'taker_buy_base_asset_volume',\n",
       "       'taker_buy_quote_asset_volume', 'ignore'],\n",
       "      dtype='object')"
      ]
     },
     "execution_count": 12,
     "metadata": {},
     "output_type": "execute_result"
    }
   ],
   "source": [
    "df.columns"
   ]
  },
  {
   "cell_type": "code",
   "execution_count": 13,
   "id": "741c1984-cfc2-4ab9-aad4-6aeb53ff835c",
   "metadata": {},
   "outputs": [
    {
     "name": "stdout",
     "output_type": "stream",
     "text": [
      "<class 'pandas.core.frame.DataFrame'>\n",
      "RangeIndex: 2090 entries, 0 to 2089\n",
      "Data columns (total 12 columns):\n",
      " #   Column                        Non-Null Count  Dtype         \n",
      "---  ------                        --------------  -----         \n",
      " 0   timestamp                     2090 non-null   datetime64[ns]\n",
      " 1   open                          2090 non-null   float64       \n",
      " 2   high                          2090 non-null   float64       \n",
      " 3   low                           2090 non-null   float64       \n",
      " 4   close                         2090 non-null   float64       \n",
      " 5   volume                        2090 non-null   float64       \n",
      " 6   close_time                    2090 non-null   int64         \n",
      " 7   quote_asset_volume            2090 non-null   float64       \n",
      " 8   number_of_trades              2090 non-null   int64         \n",
      " 9   taker_buy_base_asset_volume   2090 non-null   float64       \n",
      " 10  taker_buy_quote_asset_volume  2090 non-null   float64       \n",
      " 11  ignore                        2090 non-null   float64       \n",
      "dtypes: datetime64[ns](1), float64(9), int64(2)\n",
      "memory usage: 196.1 KB\n"
     ]
    }
   ],
   "source": [
    "df[['open', 'high', 'low', 'close', 'volume', 'quote_asset_volume', 'taker_buy_base_asset_volume','taker_buy_quote_asset_volume', 'ignore']] = df[['open', 'high', 'low', 'close', 'volume', 'quote_asset_volume', 'taker_buy_base_asset_volume','taker_buy_quote_asset_volume', 'ignore']].astype(float)\n",
    "\n",
    "df.info()"
   ]
  },
  {
   "cell_type": "markdown",
   "id": "47f3c00d-a671-40dd-b3a0-e3db86ac7786",
   "metadata": {},
   "source": [
    "## Save data to csv"
   ]
  },
  {
   "cell_type": "code",
   "execution_count": 15,
   "id": "bc829358-de51-43f0-b124-934279b03e18",
   "metadata": {},
   "outputs": [],
   "source": [
    "df.to_csv(\"data/BTCUSDT_2017_01_01_to_2023_05_07.csv\", index=False)"
   ]
  },
  {
   "cell_type": "code",
   "execution_count": null,
   "id": "e1c7fac8-31e0-4582-ac9e-77160d896122",
   "metadata": {},
   "outputs": [],
   "source": []
  }
 ],
 "metadata": {
  "kernelspec": {
   "display_name": "Python 3.10.9 (Visual Studio)",
   "language": "python",
   "name": "visualstudio"
  },
  "language_info": {
   "codemirror_mode": {
    "name": "ipython",
    "version": 3
   },
   "file_extension": ".py",
   "mimetype": "text/x-python",
   "name": "python",
   "nbconvert_exporter": "python",
   "pygments_lexer": "ipython3",
   "version": "3.10.9"
  }
 },
 "nbformat": 4,
 "nbformat_minor": 5
}
