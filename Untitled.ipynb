{
 "cells": [
  {
   "cell_type": "code",
   "execution_count": 11,
   "id": "e234bd5b-27d4-4506-bf9f-bbed51a0ff31",
   "metadata": {},
   "outputs": [
    {
     "name": "stdout",
     "output_type": "stream",
     "text": [
      "Adım 1 tamamlandı.\n",
      "Adım 2 tamamlandı.\n",
      "Adım 3 tamamlandı.\n",
      "Adım 4 tamamlandı.\n",
      "Adım 5 tamamlandı.\n",
      "Adım 6 tamamlandı.\n",
      "Adım 7 tamamlandı.\n",
      "Adım 8 tamamlandı.\n",
      "Adım 9 tamamlandı.\n",
      "Adım 10 tamamlandı.\n",
      "İşlem tamamlandı.\n",
      "time: 1.08 ms\n"
     ]
    }
   ],
   "source": [
    "\n",
    "# Buraya zamanı ölçmek istediğiniz kodu yazın\n",
    "\n",
    "# Örnek bir döngü\n",
    "for i in range(10):\n",
    "    # Adım sürelerini göstermek için print kullanabilirsiniz\n",
    "    print(f\"Adım {i+1} tamamlandı.\")\n",
    "    # İşlemleriniz\n",
    "\n",
    "# Toplam süreyi göstermek için de bir çıktı yazdırabilirsiniz\n",
    "print(\"İşlem tamamlandı.\")"
   ]
  },
  {
   "cell_type": "code",
   "execution_count": 10,
   "id": "6419c03a-f8ad-4fd3-8817-81198114f8d3",
   "metadata": {},
   "outputs": [],
   "source": [
    "%load_ext autotime"
   ]
  },
  {
   "cell_type": "code",
   "execution_count": 12,
   "id": "1893efa1-0119-49b9-934b-deb6eb49753e",
   "metadata": {},
   "outputs": [
    {
     "name": "stdout",
     "output_type": "stream",
     "text": [
      "Adım 1 tamamlandı.\n",
      "Adım 2 tamamlandı.\n",
      "Adım 3 tamamlandı.\n",
      "Adım 4 tamamlandı.\n",
      "Adım 5 tamamlandı.\n",
      "Adım 6 tamamlandı.\n",
      "Adım 7 tamamlandı.\n",
      "Adım 8 tamamlandı.\n",
      "Adım 9 tamamlandı.\n",
      "Adım 10 tamamlandı.\n",
      "İşlem tamamlandı.\n",
      "time: 5.75 ms\n"
     ]
    }
   ],
   "source": [
    "# Örnek bir döngü\n",
    "for i in range(10):\n",
    "    # Adım sürelerini göstermek için print kullanabilirsiniz\n",
    "    print(f\"Adım {i+1} tamamlandı.\")\n",
    "    # İşlemleriniz\n",
    "\n",
    "# Toplam süreyi göstermek için de bir çıktı yazdırabilirsiniz\n",
    "print(\"İşlem tamamlandı.\")"
   ]
  },
  {
   "cell_type": "code",
   "execution_count": null,
   "id": "fbd294cf-5016-4973-9bb8-79107691d7f7",
   "metadata": {},
   "outputs": [],
   "source": [
    "%load_ext autotime"
   ]
  }
 ],
 "metadata": {
  "kernelspec": {
   "display_name": "Python 3.10.9 (Visual Studio)",
   "language": "python",
   "name": "visualstudio"
  },
  "language_info": {
   "codemirror_mode": {
    "name": "ipython",
    "version": 3
   },
   "file_extension": ".py",
   "mimetype": "text/x-python",
   "name": "python",
   "nbconvert_exporter": "python",
   "pygments_lexer": "ipython3",
   "version": "3.10.9"
  }
 },
 "nbformat": 4,
 "nbformat_minor": 5
}
